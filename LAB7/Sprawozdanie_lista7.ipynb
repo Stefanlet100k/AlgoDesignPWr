{
 "cells": [
  {
   "cell_type": "markdown",
   "id": "48d515de-4d9c-4b51-976f-4be8be6e7cd4",
   "metadata": {},
   "source": [
    "## Lista 7 ##\n",
    "\n",
    "### Zadanie 1. - podstawy sortowania ###\n",
    "\n",
    "Zaimplementuj algorytm sortowania wektora liczb całkowitych względem kolejnych cyfr (od najbardziej znaczącej) tak, aby kolejne cyfry sortować raz malejąco, raz rosnąco (naprzemiennie). Dokładniej, posortuj tak, aby kolejne liczby o takim samej pierwszej cyfrze zostały dodatkowo posortowane względem drugiej cyfry, a liczby o takich samych: pierwszej i drugiej cyfrze zostały posortowane względem trzeciej cyfry, itd.\n",
    "\n",
    "Zadanie wykonaj wielokrotnie korzystając z jednego (wybranego przez siebie) stabilnego algorytmu sortowania."
   ]
  },
  {
   "cell_type": "code",
   "execution_count": 2,
   "id": "5b802d0b-cd34-4aac-a55d-06cd40439fb3",
   "metadata": {},
   "outputs": [],
   "source": [
    "import numpy as np"
   ]
  },
  {
   "cell_type": "code",
   "execution_count": 3,
   "id": "dce1bc45-1131-4a41-aa97-70759f1a9662",
   "metadata": {},
   "outputs": [
    {
     "name": "stdout",
     "output_type": "stream",
     "text": [
      "[878, 807, 289, 358, 233, 996, 431, 506, 943, 724, 936, 404, 679, 690, 900, 812, 201, 432, 995, 876, 723, 707, 710, 614, 377, 578, 428, 803, 839, 660, 224, 292, 432, 293, 166, 148, 929, 536, 410, 409, 899, 965, 161, 802, 586, 938, 631, 476, 235, 817, 700, 782, 442, 982, 506, 241, 879, 973, 132, 254, 932, 335, 156, 495, 971, 350, 803, 234, 497, 225, 256, 179, 965, 573, 409, 493, 286, 427, 506, 491, 505, 836, 489, 162, 399, 331, 941, 671, 822, 210, 256, 727, 722, 454, 945, 304, 484, 836, 646, 484]\n"
     ]
    }
   ],
   "source": [
    "VECTOR = list(np.random.randint(100, 1000, 100))\n",
    "print(VECTOR)"
   ]
  },
  {
   "cell_type": "markdown",
   "id": "daea31ac-91d7-498f-a6b3-270752f4cb74",
   "metadata": {},
   "source": [
    "Wybrany algorytm sortujący - sortowanie szybkie - zaimplemntowany dwukrotnie dla sortowania rosnącego i sortowania malejącego."
   ]
  },
  {
   "cell_type": "code",
   "execution_count": 4,
   "id": "3dbd3ea2-77f8-4892-a99c-42ed57e808b5",
   "metadata": {},
   "outputs": [],
   "source": [
    "def quick_sort_asc(arr, low, high):\n",
    "        if low > high or low < 0:\n",
    "            return\n",
    "        \n",
    "        p, arr =  partition_asc(arr, low, high)\n",
    "\n",
    "        quick_sort_asc(arr, low, p - 1)\n",
    "        quick_sort_asc(arr, p + 1, high)\n",
    "\n",
    "        return arr\n",
    "\n",
    "\n",
    "def partition_asc(arr, low, high):\n",
    "    piv = arr[high]\n",
    "\n",
    "    i = low - 1\n",
    "\n",
    "    for j in range(low, high):\n",
    "        if arr[j] <= piv:\n",
    "            i += 1\n",
    "            arr[j], arr[i] = arr[i], arr[j]\n",
    "    \n",
    "    i += 1\n",
    "    arr[i], arr[high] = arr[high], arr[i]\n",
    "    \n",
    "    return i, arr\n",
    "\n",
    "def quick_sort_desc(arr, low, high):\n",
    "    if low > high: # or high >= len(arr):\n",
    "        return\n",
    "    \n",
    "    p, arr =  partition(arr, low, high)\n",
    "\n",
    "    quick_sort_desc(arr, low, p - 1)\n",
    "    quick_sort_desc(arr, p + 1, high)\n",
    "\n",
    "    return arr\n",
    "\n",
    "\n",
    "def partition(arr, low, high):\n",
    "    piv = arr[high]\n",
    "\n",
    "    i = low - 1\n",
    "\n",
    "    for j in range(low, high):\n",
    "        if arr[j] >= piv:\n",
    "            i += 1\n",
    "            arr[j], arr[i] = arr[i], arr[j]\n",
    "    \n",
    "    i += 1\n",
    "    arr[i], arr[high] = arr[high], arr[i]\n",
    "    \n",
    "    return i, arr"
   ]
  },
  {
   "cell_type": "markdown",
   "id": "d7caaacf-9a29-48b2-a61d-f04a29090575",
   "metadata": {},
   "source": [
    "Sortowanie listy wedłu podanych w treści zadania zasad."
   ]
  },
  {
   "cell_type": "code",
   "execution_count": 6,
   "id": "4d856bdd-7d84-4ae1-9c70-7296f9c44b64",
   "metadata": {},
   "outputs": [
    {
     "name": "stdout",
     "output_type": "stream",
     "text": [
      "\n",
      "POSORTOWANA LISTA:\n",
      "[179, 161, 162, 166, 156, 148, 132, 292, 293, 286, 289, 254, 256, 256, 241, 233, 234, 235, 224, 225, 210, 201, 399, 377, 350, 358, 331, 335, 304, 491, 493, 495, 497, 484, 484, 484, 489, 484, 484, 476, 454, 442, 431, 432, 432, 427, 428, 410, 404, 409, 409, 586, 573, 578, 536, 505, 506, 506, 506, 690, 671, 679, 660, 646, 631, 614, 782, 722, 723, 724, 727, 710, 700, 707, 899, 876, 878, 879, 836, 836, 836, 839, 836, 836, 822, 812, 817, 802, 803, 803, 807, 995, 996, 982, 971, 973, 965, 965, 965, 965, 965, 941, 943, 945, 932, 936, 938, 929, 900]\n"
     ]
    }
   ],
   "source": [
    "def sort_vector(vec):\n",
    "    l = len(str(max(vec))) # sprawdzenie ile cyfr ma ajwiększa liczba z listy\n",
    "    prefixes = list()\n",
    "    # stworzenie listy prefixów\n",
    "    for n in range(l, 1, -1):\n",
    "        prefixes.append([i * 10 ** (n-1) for i in range(10 ** (l - n + 1)  + 1)])\n",
    "\n",
    "    rev = 1\n",
    "    vec = quick_sort_asc(vec, 0, len(vec) - 1)\n",
    "\n",
    "    for pref in prefixes:\n",
    "\n",
    "        for p in range(len(pref) - 1):\n",
    "\n",
    "            temp = [v for v in vec if (v >= pref[p] and v < pref[p+1])]\n",
    "            if len(temp):\n",
    "                low = vec.index(temp[0])\n",
    "                high = vec.index(temp[-1])\n",
    "                if rev:\n",
    "                    temp = quick_sort_desc(temp, 0, len(temp) - 1)                    \n",
    "                else:\n",
    "                    temp = quick_sort_asc(temp, 0, len(temp) - 1)\n",
    "\n",
    "\n",
    "                #temp = sorted(temp, reverse=rev)\n",
    "                vec[low:high + 1] = temp\n",
    "\n",
    "        if rev:\n",
    "            rev = 0\n",
    "        else:\n",
    "            rev = 1\n",
    "    return vec\n",
    "        \n",
    "\n",
    "\n",
    "V_NEW = sort_vector(VECTOR)\n",
    "print('\\nPOSORTOWANA LISTA:')\n",
    "print(V_NEW)"
   ]
  },
  {
   "cell_type": "markdown",
   "id": "067d16cd-aaf5-4abd-aeaf-252a18e587b5",
   "metadata": {},
   "source": [
    "### Zadanie 2 - ograniczony zbiór wartości ###\n",
    "\n",
    "Dany jest wektor robotów (z poprzedniej listy). Wykorzystaj algorytm sortowania przez zliczanie do sortowania względem rozdzielczości kamery."
   ]
  },
  {
   "cell_type": "code",
   "execution_count": null,
   "id": "adb13a7a-e732-4687-966f-4043c5e8d558",
   "metadata": {},
   "outputs": [],
   "source": [
    "import numpy as np"
   ]
  },
  {
   "cell_type": "code",
   "execution_count": null,
   "id": "88fe0e8a-99ff-4003-a3c9-f625e2ef8900",
   "metadata": {},
   "outputs": [],
   "source": [
    "A = np.random.randint(0, 10, 20)\n",
    "print(A)"
   ]
  },
  {
   "cell_type": "code",
   "execution_count": 13,
   "id": "b068c7a4-5361-4c39-8c81-11e908ba90a7",
   "metadata": {},
   "outputs": [],
   "source": [
    "def counting_sort(l):\n",
    "    j = [0] * (max(l) + 1)\n",
    "    output = [0] * (len(l) + 1)\n",
    "\n",
    "    for i in l:\n",
    "        j[i] += 1\n",
    "    \n",
    "    for i in range(1, len(j)):\n",
    "        j[i] += j[i - 1]\n",
    "    \n",
    "    for i in range(len(l)):\n",
    "        a = l[i]\n",
    "        b = j[a]\n",
    "        output[b] = a\n",
    "        j[a] -= 1\n",
    "\n",
    "    return output"
   ]
  },
  {
   "cell_type": "code",
   "execution_count": 14,
   "id": "c2a17978-9e4f-4a84-82cb-93f6c65e1ad8",
   "metadata": {},
   "outputs": [
    {
     "data": {
      "text/plain": [
       "[{'id': '1101', 'typ': 'GUA', 'masa': 539, 'roz': 10},\n",
       " {'id': '1010', 'typ': 'WUC', 'masa': 1398, 'roz': 16},\n",
       " {'id': '1111', 'typ': 'GNW', 'masa': 151, 'roz': 29},\n",
       " {'id': '1110', 'typ': 'NNV', 'masa': 572, 'roz': 15},\n",
       " {'id': '0110', 'typ': 'GVW', 'masa': 81, 'roz': 27},\n",
       " {'id': '1101', 'typ': 'WNV', 'masa': 282, 'roz': 7},\n",
       " {'id': '0011', 'typ': 'GGV', 'masa': 827, 'roz': 6},\n",
       " {'id': '0001', 'typ': 'NUG', 'masa': 732, 'roz': 8},\n",
       " {'id': '1011', 'typ': 'GVG', 'masa': 1612, 'roz': 24},\n",
       " {'id': '1111', 'typ': 'UAA', 'masa': 1965, 'roz': 26},\n",
       " {'id': '0001', 'typ': 'VVN', 'masa': 1334, 'roz': 14},\n",
       " {'id': '0010', 'typ': 'AAG', 'masa': 1960, 'roz': 8},\n",
       " {'id': '0001', 'typ': 'NGV', 'masa': 1503, 'roz': 27},\n",
       " {'id': '0110', 'typ': 'WUN', 'masa': 1485, 'roz': 11},\n",
       " {'id': '0001', 'typ': 'NNV', 'masa': 62, 'roz': 23},\n",
       " {'id': '1000', 'typ': 'AUV', 'masa': 1815, 'roz': 19},\n",
       " {'id': '0100', 'typ': 'GWC', 'masa': 1733, 'roz': 11},\n",
       " {'id': '1111', 'typ': 'GAG', 'masa': 801, 'roz': 1},\n",
       " {'id': '1100', 'typ': 'CWA', 'masa': 1441, 'roz': 13},\n",
       " {'id': '1100', 'typ': 'CVA', 'masa': 1172, 'roz': 4}]"
      ]
     },
     "execution_count": 14,
     "metadata": {},
     "output_type": "execute_result"
    }
   ],
   "source": [
    "from L6_0_data_structure import create_m_bots\n",
    "\n",
    "# wektor robotów\n",
    "robots = create_m_bots(20)\n",
    "robots = [b.save_robot() for b in robots]\n",
    "robots"
   ]
  },
  {
   "cell_type": "code",
   "execution_count": 15,
   "id": "c70153fc-286b-4ed8-b4c1-2fbd59029382",
   "metadata": {},
   "outputs": [
    {
     "name": "stdout",
     "output_type": "stream",
     "text": [
      "{'id': '1111', 'typ': 'GAG', 'masa': 801, 'roz': 1}\n",
      "{'id': '1100', 'typ': 'CVA', 'masa': 1172, 'roz': 4}\n",
      "{'id': '0011', 'typ': 'GGV', 'masa': 827, 'roz': 6}\n",
      "{'id': '1101', 'typ': 'WNV', 'masa': 282, 'roz': 7}\n",
      "{'id': '0001', 'typ': 'NUG', 'masa': 732, 'roz': 8}\n",
      "{'id': '0010', 'typ': 'AAG', 'masa': 1960, 'roz': 8}\n",
      "{'id': '1101', 'typ': 'GUA', 'masa': 539, 'roz': 10}\n",
      "{'id': '0110', 'typ': 'WUN', 'masa': 1485, 'roz': 11}\n",
      "{'id': '0100', 'typ': 'GWC', 'masa': 1733, 'roz': 11}\n",
      "{'id': '1100', 'typ': 'CWA', 'masa': 1441, 'roz': 13}\n",
      "{'id': '0001', 'typ': 'VVN', 'masa': 1334, 'roz': 14}\n",
      "{'id': '1110', 'typ': 'NNV', 'masa': 572, 'roz': 15}\n",
      "{'id': '1010', 'typ': 'WUC', 'masa': 1398, 'roz': 16}\n",
      "{'id': '1000', 'typ': 'AUV', 'masa': 1815, 'roz': 19}\n",
      "{'id': '0001', 'typ': 'NNV', 'masa': 62, 'roz': 23}\n",
      "{'id': '1011', 'typ': 'GVG', 'masa': 1612, 'roz': 24}\n",
      "{'id': '1111', 'typ': 'UAA', 'masa': 1965, 'roz': 26}\n",
      "{'id': '0110', 'typ': 'GVW', 'masa': 81, 'roz': 27}\n",
      "{'id': '0001', 'typ': 'NGV', 'masa': 1503, 'roz': 27}\n",
      "{'id': '1111', 'typ': 'GNW', 'masa': 151, 'roz': 29}\n"
     ]
    }
   ],
   "source": [
    "# wyodrębnienie rozdzielczości u umieszczenie warotści w liście \n",
    "L = [i['roz'] for i in robots]\n",
    "# wywołanie sortowania przez zlicznie\n",
    "resolutions = counting_sort(L)  \n",
    "new_robots = []\n",
    "\n",
    "# idąc po posortowanych rozdzielczościach ponowne scalenie listy robotów\n",
    "for r in resolutions:\n",
    "    for bot in robots:\n",
    "        if bot['roz'] == r:\n",
    "            new_robots.append(bot)\n",
    "            robots.remove(bot)\n",
    "\n",
    "for b in new_robots:\n",
    "    print(b)"
   ]
  },
  {
   "cell_type": "markdown",
   "id": "01b2d967-34cd-460c-88e6-0f8d27662d76",
   "metadata": {},
   "source": [
    "### Zadanie 3 - sortowanie ciągów ###\n",
    "\n",
    "Sortowanie pozycyjne (radix sort) \\\n",
    "złożoność : O(n * m)\n",
    "\n",
    "<b> Pseudokod </b>\\\n",
    "RadixSort(tab[],d)\\\n",
    "wykonuj\\\n",
    "   &nbsp;&nbsp; dla i:=d schodź do 1 wykonuj\\\n",
    "      &nbsp;&nbsp; &nbsp;&nbsp; posortuj stabilnie ciągi według i-tej pozycji;\\\n",
    "end;"
   ]
  },
  {
   "cell_type": "code",
   "execution_count": 30,
   "id": "a508e345-b550-49b2-bfb3-80a5c204a8c6",
   "metadata": {},
   "outputs": [
    {
     "data": {
      "text/plain": [
       "array([[5, 0, 4],\n",
       "       [6, 1, 2],\n",
       "       [5, 2, 3],\n",
       "       [1, 5, 4],\n",
       "       [5, 3, 6],\n",
       "       [0, 1, 4],\n",
       "       [2, 6, 1],\n",
       "       [0, 0, 2],\n",
       "       [5, 1, 6],\n",
       "       [1, 5, 4],\n",
       "       [3, 5, 1],\n",
       "       [1, 0, 3],\n",
       "       [0, 0, 2],\n",
       "       [6, 6, 1],\n",
       "       [6, 3, 5],\n",
       "       [0, 1, 3],\n",
       "       [1, 5, 1],\n",
       "       [6, 2, 6],\n",
       "       [1, 2, 6],\n",
       "       [0, 5, 4]])"
      ]
     },
     "execution_count": 30,
     "metadata": {},
     "output_type": "execute_result"
    }
   ],
   "source": [
    "L = np.random.randint(0, 7, (20, 3))\n",
    "L"
   ]
  },
  {
   "cell_type": "code",
   "execution_count": 31,
   "id": "bed07f82-d9ac-4b03-be86-359183166035",
   "metadata": {},
   "outputs": [
    {
     "data": {
      "text/plain": [
       "[array([0, 0, 2]),\n",
       " array([0, 0, 2]),\n",
       " array([0, 1, 3]),\n",
       " array([0, 1, 4]),\n",
       " array([0, 5, 4]),\n",
       " array([1, 0, 3]),\n",
       " array([1, 2, 6]),\n",
       " array([1, 5, 1]),\n",
       " array([1, 5, 4]),\n",
       " array([1, 5, 4]),\n",
       " array([2, 6, 1]),\n",
       " array([3, 5, 1]),\n",
       " array([5, 0, 4]),\n",
       " array([5, 1, 6]),\n",
       " array([5, 2, 3]),\n",
       " array([5, 3, 6]),\n",
       " array([6, 1, 2]),\n",
       " array([6, 2, 6]),\n",
       " array([6, 3, 5]),\n",
       " array([6, 6, 1])]"
      ]
     },
     "execution_count": 31,
     "metadata": {},
     "output_type": "execute_result"
    }
   ],
   "source": [
    "def radix_sort(t):\n",
    "    n = len(t[0])\n",
    "    for i in range(n - 1, -1, -1):\n",
    "        t = sorted(t, key=lambda x: x[i])\n",
    "    return t\n",
    "\n",
    "radix_sort(L)\n",
    "    "
   ]
  },
  {
   "cell_type": "markdown",
   "id": "a9a83e78-bc79-4bf4-ba5d-0a56f1c5b078",
   "metadata": {},
   "source": [
    "### Zadanie 4 - dziel i zwyciężaj ###\n",
    "\n",
    "- Zaimplementuj algorytm szybkiego sortowania (quicksort) wektora robotów (z poprzedniej listy) względem zadanego parametru."
   ]
  },
  {
   "cell_type": "code",
   "execution_count": 153,
   "id": "48f05617-2f74-4ee6-aa0a-b25f560079be",
   "metadata": {},
   "outputs": [],
   "source": [
    "def quick_sort(arr, low, high):\n",
    "        if low >= high or low < 0:\n",
    "            return\n",
    "        \n",
    "        p, arr =  partition(arr, low, high)\n",
    "\n",
    "        quick_sort(arr, low, p - 1)\n",
    "        quick_sort(arr, p + 1, high)\n",
    "\n",
    "        return arr\n",
    "\n",
    "\n",
    "def partition(arr, low, high):\n",
    "    piv = arr[high]\n",
    "\n",
    "    i = low - 1\n",
    "\n",
    "    for j in range(low, high):\n",
    "        if arr[j] <= piv:\n",
    "            i += 1\n",
    "            arr[j], arr[i] = arr[i], arr[j]\n",
    "\n",
    "    i += 1\n",
    "    arr[i], arr[high] = arr[high], arr[i]\n",
    "\n",
    "    return i, arr\n",
    "\n",
    "def quick_sort_desc(arr, low, high):\n",
    "    if low >= high or high >= len(arr):\n",
    "        return\n",
    "\n",
    "    p, arr =  partition_desc(arr, low, high)\n",
    "\n",
    "    quick_sort_desc(arr, low, p - 1)\n",
    "    quick_sort_desc(arr, p + 1, high)\n",
    "\n",
    "    return arr\n",
    "\n",
    "\n",
    "def partition_desc(arr, low, high):\n",
    "    piv = arr[high]\n",
    "\n",
    "    i = low - 1\n",
    "\n",
    "    for j in range(low, high):\n",
    "        if arr[j] >= piv:\n",
    "            i += 1\n",
    "            arr[j], arr[i] = arr[i], arr[j]\n",
    "\n",
    "    i += 1\n",
    "    arr[i], arr[high] = arr[high], arr[i]\n",
    "\n",
    "    return i, arr"
   ]
  },
  {
   "cell_type": "code",
   "execution_count": 155,
   "id": "d2f3d416-29dd-4ed9-852c-f4f4472d51bb",
   "metadata": {},
   "outputs": [
    {
     "name": "stdout",
     "output_type": "stream",
     "text": [
      "[0 0 0 3 3 4 6 6 8 9]\n"
     ]
    }
   ],
   "source": [
    "lis = np.random.randint(0, 10, 10)\n",
    "print(quick_sort(lis, 0, len(lis)-1))\n"
   ]
  },
  {
   "cell_type": "code",
   "execution_count": 156,
   "id": "9aaf8a72-771d-4ea4-9c5b-c4f5d412da76",
   "metadata": {},
   "outputs": [
    {
     "name": "stdout",
     "output_type": "stream",
     "text": [
      "Wektor robotów posortowany względem parametru: roz\n",
      "{'id': '1110', 'typ': 'NUW', 'masa': 646, 'roz': 1}\n",
      "{'id': '1011', 'typ': 'WNN', 'masa': 878, 'roz': 2}\n",
      "{'id': '1111', 'typ': 'GUG', 'masa': 1196, 'roz': 10}\n",
      "{'id': '0110', 'typ': 'AUA', 'masa': 673, 'roz': 10}\n",
      "{'id': '0111', 'typ': 'WAC', 'masa': 1821, 'roz': 15}\n",
      "{'id': '0000', 'typ': 'VGV', 'masa': 802, 'roz': 20}\n",
      "{'id': '0100', 'typ': 'GGA', 'masa': 1072, 'roz': 20}\n",
      "{'id': '0000', 'typ': 'NWC', 'masa': 1002, 'roz': 21}\n",
      "{'id': '0111', 'typ': 'WGG', 'masa': 1464, 'roz': 22}\n",
      "{'id': '1111', 'typ': 'CUN', 'masa': 71, 'roz': 23}\n",
      "{'id': '1000', 'typ': 'GWC', 'masa': 1126, 'roz': 23}\n",
      "{'id': '1110', 'typ': 'NVW', 'masa': 909, 'roz': 23}\n",
      "{'id': '0001', 'typ': 'AUV', 'masa': 659, 'roz': 24}\n",
      "{'id': '1110', 'typ': 'NCW', 'masa': 1988, 'roz': 25}\n",
      "{'id': '1010', 'typ': 'NWG', 'masa': 1603, 'roz': 26}\n",
      "{'id': '0001', 'typ': 'CGA', 'masa': 1935, 'roz': 27}\n",
      "{'id': '1011', 'typ': 'NCG', 'masa': 1044, 'roz': 28}\n",
      "{'id': '1001', 'typ': 'NUU', 'masa': 1111, 'roz': 28}\n",
      "{'id': '0000', 'typ': 'AGN', 'masa': 1327, 'roz': 29}\n",
      "{'id': '1001', 'typ': 'VAN', 'masa': 435, 'roz': 29}\n"
     ]
    }
   ],
   "source": [
    "def sort_robots(bots, feat, kind=0):\n",
    "        \"\"\"\n",
    "        :param list bots: wektor robotów\n",
    "        :param feat: cecha według której sortujemy\n",
    "        :param int kind: 0 -> rosnąco, 1 ->malejąco, 2 -> alfabetycznie\n",
    "        :return list new_robots: lista robotów posortowana względem zadanego parametru\n",
    "        \"\"\"\n",
    "        # wyciągniecie odpowiedniej cechy\n",
    "        l = [b[feat] for b in bots]\n",
    "\n",
    "\n",
    "        if kind == 0:\n",
    "            l = quick_sort(l, 0, len(l) - 1)\n",
    "        elif kind == 1:\n",
    "            l = quick_sort_desc(l, 0, len(l) - 1)\n",
    "        elif kind == 2:\n",
    "            l = [str(n) for n in l]\n",
    "            l = quick_sort(l, 0, len(l) - 1)\n",
    "        \n",
    "        \n",
    "        new_robots = list()\n",
    "        \n",
    "        for r in l:\n",
    "            for bot in bots:\n",
    "                if bot[feat] == r:\n",
    "                    new_robots.append(bot)\n",
    "                    bots.remove(bot)\n",
    "\n",
    "        return new_robots     \n",
    "\n",
    "\n",
    "# Wywoałanie funkcji dla pierwszej części zadania\n",
    "vector = create_m_bots(20)\n",
    "vector = [b.save_robot() for b in vector]\n",
    "feauture  = 'roz'\n",
    "robots = sort_robots(vector, feat=feauture)\n",
    "print(f\"Wektor robotów posortowany względem parametru: {feauture}\")\n",
    "for r in robots:\n",
    "    print(r)\n"
   ]
  },
  {
   "cell_type": "markdown",
   "id": "4a1865e7-627a-4ff7-834f-0c3f678b99dd",
   "metadata": {},
   "source": [
    "- Rozwiń napisaną procedurę tak, aby przyjmowała listę parametrów robota (w zadanej kolejności, niekoniecznie wszystkie) wraz z kierunkiem sortowania (nierosnąco, niemalejąco, alfabetycznie, itd.). Sortowanie wykonaj po wszystkich zadanych parametrach (w zadanej kolejności i zadanym kierunku sortowania) tak, aby kolejne elementy listy o takim samym pierwszym parametrze zostały posortowanewzględem drugiego parametru, a o takim samym pierwszym i drugim parametrze – względem trzeciego parametru itd. Uwaga: Zwróć uwagę na stabilność procedury sortowania.\n",
    "\n",
    "Do rozwiązania tego podpunktu wykorzystamy powyższą funkcję quicksort oraz sposób myślenia radix sort z zadania 3."
   ]
  },
  {
   "cell_type": "code",
   "execution_count": 157,
   "id": "68673940-1ba0-4862-b368-d308b97bef91",
   "metadata": {},
   "outputs": [],
   "source": [
    "vector = create_m_bots(100)\n",
    "vector = [b.save_robot() for b in vector]"
   ]
  },
  {
   "cell_type": "code",
   "execution_count": 159,
   "id": "a744b730-4a0b-4f2e-a86c-91a4b9333482",
   "metadata": {},
   "outputs": [
    {
     "data": {
      "text/plain": [
       "['typ', 'masa', 'roz', 'id']"
      ]
     },
     "execution_count": 159,
     "metadata": {},
     "output_type": "execute_result"
    }
   ],
   "source": [
    "features = {\n",
    "        'id': 0,\n",
    "        'roz': 1,\n",
    "        'masa': 1,\n",
    "        'typ': 2,\n",
    "    }\n",
    "feat_list = list(features.keys())\n",
    "# odwrócenie listy cech\n",
    "feat_list.reverse()\n",
    "feat_list"
   ]
  },
  {
   "cell_type": "code",
   "execution_count": 160,
   "id": "1925b2e7-c08a-416e-9e4b-6ce8456942b9",
   "metadata": {},
   "outputs": [
    {
     "data": {
      "text/plain": [
       "[{'id': '0000', 'typ': 'NUV', 'masa': 811, 'roz': 25},\n",
       " {'id': '0000', 'typ': 'WUW', 'masa': 1036, 'roz': 15},\n",
       " {'id': '0000', 'typ': 'ANN', 'masa': 1098, 'roz': 13},\n",
       " {'id': '0000', 'typ': 'GCU', 'masa': 52, 'roz': 4},\n",
       " {'id': '0001', 'typ': 'NNV', 'masa': 296, 'roz': 28},\n",
       " {'id': '0001', 'typ': 'AGN', 'masa': 1312, 'roz': 26},\n",
       " {'id': '0001', 'typ': 'ACV', 'masa': 1298, 'roz': 20},\n",
       " {'id': '0001', 'typ': 'GGV', 'masa': 927, 'roz': 18},\n",
       " {'id': '0001', 'typ': 'WNV', 'masa': 765, 'roz': 15},\n",
       " {'id': '0001', 'typ': 'VGC', 'masa': 173, 'roz': 14},\n",
       " {'id': '0001', 'typ': 'NAV', 'masa': 1013, 'roz': 20},\n",
       " {'id': '0001', 'typ': 'NNN', 'masa': 428, 'roz': 15},\n",
       " {'id': '0010', 'typ': 'CUV', 'masa': 1526, 'roz': 22},\n",
       " {'id': '0010', 'typ': 'GVC', 'masa': 181, 'roz': 22},\n",
       " {'id': '0010', 'typ': 'ANW', 'masa': 1233, 'roz': 21},\n",
       " {'id': '0010', 'typ': 'NUU', 'masa': 451, 'roz': 20},\n",
       " {'id': '0010', 'typ': 'CUG', 'masa': 1787, 'roz': 16},\n",
       " {'id': '0010', 'typ': 'WCN', 'masa': 678, 'roz': 8},\n",
       " {'id': '0010', 'typ': 'VAN', 'masa': 1162, 'roz': 7},\n",
       " {'id': '0010', 'typ': 'WWV', 'masa': 1763, 'roz': 3},\n",
       " {'id': '0010', 'typ': 'WWC', 'masa': 869, 'roz': 21},\n",
       " {'id': '0010', 'typ': 'UNC', 'masa': 1034, 'roz': 16},\n",
       " {'id': '0011', 'typ': 'ANG', 'masa': 368, 'roz': 25},\n",
       " {'id': '0011', 'typ': 'UWV', 'masa': 1173, 'roz': 22},\n",
       " {'id': '0011', 'typ': 'VAA', 'masa': 1811, 'roz': 13},\n",
       " {'id': '0011', 'typ': 'CVN', 'masa': 509, 'roz': 5},\n",
       " {'id': '0011', 'typ': 'CWA', 'masa': 1896, 'roz': 3},\n",
       " {'id': '0100', 'typ': 'AVA', 'masa': 1690, 'roz': 24},\n",
       " {'id': '0100', 'typ': 'NAW', 'masa': 1657, 'roz': 12},\n",
       " {'id': '0100', 'typ': 'NVG', 'masa': 1926, 'roz': 7},\n",
       " {'id': '0101', 'typ': 'UAC', 'masa': 1231, 'roz': 27},\n",
       " {'id': '0101', 'typ': 'UNV', 'masa': 526, 'roz': 19},\n",
       " {'id': '0101', 'typ': 'WCN', 'masa': 972, 'roz': 13},\n",
       " {'id': '0101', 'typ': 'UWW', 'masa': 1797, 'roz': 9},\n",
       " {'id': '0101', 'typ': 'NVU', 'masa': 160, 'roz': 7},\n",
       " {'id': '0101', 'typ': 'GGC', 'masa': 1378, 'roz': 2},\n",
       " {'id': '0101', 'typ': 'UNW', 'masa': 1738, 'roz': 7},\n",
       " {'id': '0101', 'typ': 'VCV', 'masa': 210, 'roz': 7},\n",
       " {'id': '0110', 'typ': 'VGN', 'masa': 1490, 'roz': 29},\n",
       " {'id': '0110', 'typ': 'GCW', 'masa': 1745, 'roz': 26},\n",
       " {'id': '0110', 'typ': 'UCG', 'masa': 580, 'roz': 26},\n",
       " {'id': '0110', 'typ': 'NWC', 'masa': 223, 'roz': 22},\n",
       " {'id': '0110', 'typ': 'NWN', 'masa': 1012, 'roz': 14},\n",
       " {'id': '0110', 'typ': 'CNC', 'masa': 1584, 'roz': 13},\n",
       " {'id': '0110', 'typ': 'VNC', 'masa': 1387, 'roz': 11},\n",
       " {'id': '0110', 'typ': 'CAA', 'masa': 696, 'roz': 11},\n",
       " {'id': '0110', 'typ': 'CWC', 'masa': 324, 'roz': 25},\n",
       " {'id': '0111', 'typ': 'NCU', 'masa': 1369, 'roz': 27},\n",
       " {'id': '0111', 'typ': 'UNC', 'masa': 1617, 'roz': 17},\n",
       " {'id': '0111', 'typ': 'NCG', 'masa': 295, 'roz': 15},\n",
       " {'id': '0111', 'typ': 'ACU', 'masa': 780, 'roz': 13},\n",
       " {'id': '0111', 'typ': 'VWG', 'masa': 673, 'roz': 1},\n",
       " {'id': '1000', 'typ': 'GAA', 'masa': 146, 'roz': 28},\n",
       " {'id': '1000', 'typ': 'GAU', 'masa': 1587, 'roz': 26},\n",
       " {'id': '1000', 'typ': 'NVG', 'masa': 432, 'roz': 18},\n",
       " {'id': '1000', 'typ': 'GWC', 'masa': 1288, 'roz': 11},\n",
       " {'id': '1000', 'typ': 'WNW', 'masa': 638, 'roz': 3},\n",
       " {'id': '1000', 'typ': 'AAU', 'masa': 1635, 'roz': 2},\n",
       " {'id': '1001', 'typ': 'NGA', 'masa': 391, 'roz': 16},\n",
       " {'id': '1001', 'typ': 'NAW', 'masa': 408, 'roz': 7},\n",
       " {'id': '1001', 'typ': 'UGW', 'masa': 1716, 'roz': 4},\n",
       " {'id': '1001', 'typ': 'VNG', 'masa': 1655, 'roz': 2},\n",
       " {'id': '1010', 'typ': 'GUU', 'masa': 1071, 'roz': 19},\n",
       " {'id': '1010', 'typ': 'UNC', 'masa': 750, 'roz': 19},\n",
       " {'id': '1010', 'typ': 'GVW', 'masa': 779, 'roz': 16},\n",
       " {'id': '1010', 'typ': 'VNW', 'masa': 1476, 'roz': 13},\n",
       " {'id': '1010', 'typ': 'UAV', 'masa': 1894, 'roz': 11},\n",
       " {'id': '1010', 'typ': 'GWW', 'masa': 466, 'roz': 4},\n",
       " {'id': '1010', 'typ': 'UVN', 'masa': 187, 'roz': 1},\n",
       " {'id': '1010', 'typ': 'VWU', 'masa': 1619, 'roz': 17},\n",
       " {'id': '1011', 'typ': 'WNC', 'masa': 200, 'roz': 29},\n",
       " {'id': '1011', 'typ': 'ANA', 'masa': 318, 'roz': 21},\n",
       " {'id': '1011', 'typ': 'UVV', 'masa': 407, 'roz': 20},\n",
       " {'id': '1011', 'typ': 'VUG', 'masa': 789, 'roz': 19},\n",
       " {'id': '1011', 'typ': 'CVG', 'masa': 1835, 'roz': 13},\n",
       " {'id': '1011', 'typ': 'NNN', 'masa': 949, 'roz': 12},\n",
       " {'id': '1011', 'typ': 'NUW', 'masa': 125, 'roz': 7},\n",
       " {'id': '1011', 'typ': 'VGN', 'masa': 1326, 'roz': 27},\n",
       " {'id': '1100', 'typ': 'CNG', 'masa': 1791, 'roz': 24},\n",
       " {'id': '1100', 'typ': 'VCG', 'masa': 1708, 'roz': 21},\n",
       " {'id': '1100', 'typ': 'VCV', 'masa': 991, 'roz': 7},\n",
       " {'id': '1100', 'typ': 'GUG', 'masa': 1831, 'roz': 4},\n",
       " {'id': '1101', 'typ': 'VGG', 'masa': 1605, 'roz': 23},\n",
       " {'id': '1101', 'typ': 'AWA', 'masa': 1635, 'roz': 19},\n",
       " {'id': '1101', 'typ': 'VGG', 'masa': 1914, 'roz': 3},\n",
       " {'id': '1101', 'typ': 'UGC', 'masa': 1240, 'roz': 3},\n",
       " {'id': '1101', 'typ': 'AAG', 'masa': 1057, 'roz': 2},\n",
       " {'id': '1101', 'typ': 'AWC', 'masa': 1849, 'roz': 3},\n",
       " {'id': '1101', 'typ': 'NCA', 'masa': 1440, 'roz': 2},\n",
       " {'id': '1110', 'typ': 'CNN', 'masa': 499, 'roz': 21},\n",
       " {'id': '1110', 'typ': 'WGW', 'masa': 1935, 'roz': 15},\n",
       " {'id': '1110', 'typ': 'UWV', 'masa': 601, 'roz': 12},\n",
       " {'id': '1110', 'typ': 'GAW', 'masa': 692, 'roz': 10},\n",
       " {'id': '1110', 'typ': 'AGC', 'masa': 1161, 'roz': 10},\n",
       " {'id': '1110', 'typ': 'UVV', 'masa': 93, 'roz': 10},\n",
       " {'id': '1111', 'typ': 'NUA', 'masa': 1458, 'roz': 20},\n",
       " {'id': '1111', 'typ': 'NAG', 'masa': 1360, 'roz': 13},\n",
       " {'id': '1111', 'typ': 'GNC', 'masa': 1571, 'roz': 3},\n",
       " {'id': '1111', 'typ': 'ACC', 'masa': 1492, 'roz': 15},\n",
       " {'id': '1111', 'typ': 'VAU', 'masa': 1176, 'roz': 6}]"
      ]
     },
     "execution_count": 160,
     "metadata": {},
     "output_type": "execute_result"
    }
   ],
   "source": [
    "for f in feat_list:\n",
    "    vector = sort_robots(bots=vector, feat=f, kind=features[f])\n",
    "    \n",
    "vector"
   ]
  },
  {
   "cell_type": "markdown",
   "id": "946f35c8-657e-48b2-981e-82776d37b6d8",
   "metadata": {},
   "source": [
    "### Zadanie 5 - wizualizacja sortowania ###\n",
    "\n",
    "- Zaimplementuj algorytm sortowania przez kopcowanie.\n",
    "\n",
    " - Proces sortowania przedstaw graficznie (np. korzystając z wykresu kolumnowego matplotlib). Wizualizacja ma wyświetlać kolejne kroki algorytmu, gdzie kolejny krok zachodzi po wykonaniu elementarnej operacji (porównywania liczb, zmiany położenia liczb w ciągu, itd.).\n",
    " - Wykonaj analogiczną wizualizację dla algorytmu sortowania szybkiego (quicksort). Obie wizualizacje przedstaw (wyświetl) równolegle."
   ]
  },
  {
   "cell_type": "code",
   "execution_count": 89,
   "id": "ffc90d18-4705-4be5-b047-e650a13ffa1a",
   "metadata": {},
   "outputs": [],
   "source": [
    "import matplotlib.pyplot as plt\n",
    "import multiprocessing as mp\n",
    "import numpy as np\n",
    "\n",
    "\n",
    "size = 20\n",
    "INTERVAL = 0.5\n",
    "L = np.random.randint(0, 100, size)\n",
    "X = np.arange(size)\n",
    "\n",
    "def heap_sort_global(l):\n",
    "    def heapify(arr, n, i):\n",
    "        largest = i # Ustawienie największego jako ojciec\n",
    "        l = 2 * i + 1\t # lewy syn = 2*i + 1\n",
    "        r = 2 * i + 2\t # prawy syn = 2*i + 2\n",
    "\n",
    "        # Sprwdzamy czy lewy syn istnieje\n",
    "        # i jest większy od ojca\n",
    "        if l < n and arr[largest] < arr[l]:\n",
    "            largest = l\n",
    "\n",
    "        # Sprwdzamy czy prawy syn istnieje\n",
    "        # i jest większy od ojca\n",
    "        if r < n and arr[largest] < arr[r]:\n",
    "            largest = r\n",
    "\n",
    "        # Zmiana ojca jeśli spełniony jest warunek\n",
    "        if largest != i:\n",
    "            \n",
    "            arr[i], arr[largest] = arr[largest], arr[i] # swap\n",
    "\n",
    "            plt.bar(X, arr)\n",
    "            plt.title('Sortowanie przez kopcowanie')\n",
    "            plt.pause(INTERVAL)\n",
    "            plt.clf()\n",
    "\n",
    "\n",
    "            # ponowne wywołanie kopcowania\n",
    "            heapify(arr, n, largest)\n",
    "\n",
    "\n",
    "    def heapSort(arr):\n",
    "        n = len(arr)\n",
    "\n",
    "        # Budowanie największego kopca\n",
    "        for i in range(n//2 - 1, -1, -1):\n",
    "            heapify(arr, n, i)\n",
    "\n",
    "        # ektrakcja elementów\n",
    "        for i in range(n-1, 0, -1):\n",
    "\n",
    "            arr[i], arr[0] = arr[0], arr[i] # zamiana\n",
    "\n",
    "            plt.bar(X, arr)\n",
    "            plt.title('Sortowanie przez kopcowanie')\n",
    "            plt.pause(INTERVAL)\n",
    "            plt.clf()\n",
    "\n",
    "            heapify(arr, i, 0)\n",
    "\n",
    "    heapSort(l)\n",
    "\n",
    "\n",
    "\n",
    "def quic_sort_global(l):\n",
    "    def quick_sort(arr, low, high):\n",
    "        if low > high: # or high >= len(arr):\n",
    "            return\n",
    "        \n",
    "        p, arr =  partition(arr, low, high)\n",
    "\n",
    "        quick_sort(arr, low, p - 1)\n",
    "        quick_sort(arr, p + 1, high)\n",
    "\n",
    "        return arr\n",
    "\n",
    "\n",
    "    def partition(arr, low, high):\n",
    "        piv = arr[high]\n",
    "\n",
    "        i = low - 1\n",
    "\n",
    "        for j in range(low, high):\n",
    "            if arr[j] <= piv:\n",
    "                i += 1\n",
    "                arr[j], arr[i] = arr[i], arr[j]\n",
    "\n",
    "                plt.bar(X, arr)\n",
    "                plt.title('Quicksort - sortowanie szybkie')\n",
    "                plt.pause(INTERVAL)\n",
    "                plt.clf()\n",
    "        \n",
    "        i += 1\n",
    "        arr[i], arr[high] = arr[high], arr[i]\n",
    "\n",
    "        plt.bar(X, arr)\n",
    "        plt.title('Quicksort - sortowanie szybkie')\n",
    "        plt.pause(INTERVAL)\n",
    "        plt.clf()\n",
    "        \n",
    "        return i, arr\n",
    "\n",
    "    quick_sort(l, 0, len(l) - 1)\n",
    "\n",
    "\n",
    "if __name__ == '__main__':\n",
    "    \n",
    "    task1 = mp.Process(target=heap_sort_global, args=(L,))\n",
    "    task2 = mp.Process(target=quic_sort_global, args=(L,))\n",
    "\n",
    "    task1.start()\n",
    "    task2.start()\n",
    "\n",
    "    plt.show()"
   ]
  }
 ],
 "metadata": {
  "kernelspec": {
   "display_name": "Python 3 (ipykernel)",
   "language": "python",
   "name": "python3"
  },
  "language_info": {
   "codemirror_mode": {
    "name": "ipython",
    "version": 3
   },
   "file_extension": ".py",
   "mimetype": "text/x-python",
   "name": "python",
   "nbconvert_exporter": "python",
   "pygments_lexer": "ipython3",
   "version": "3.9.12"
  }
 },
 "nbformat": 4,
 "nbformat_minor": 5
}
